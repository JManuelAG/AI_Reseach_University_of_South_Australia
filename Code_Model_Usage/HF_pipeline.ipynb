{
 "cells": [
  {
   "cell_type": "code",
   "execution_count": 1,
   "metadata": {},
   "outputs": [],
   "source": [
    "from transformers import T5Tokenizer, T5ForConditionalGeneration, pipeline, AutoModel, AutoTokenizer, T5ForQuestionAnswering\n"
   ]
  },
  {
   "cell_type": "markdown",
   "metadata": {},
   "source": [
    "Model Setup"
   ]
  },
  {
   "cell_type": "code",
   "execution_count": 2,
   "metadata": {},
   "outputs": [
    {
     "name": "stderr",
     "output_type": "stream",
     "text": [
      "Some weights of T5ForQuestionAnswering were not initialized from the model checkpoint at t5-small and are newly initialized: ['qa_outputs.weight', 'qa_outputs.bias']\n",
      "You should probably TRAIN this model on a down-stream task to be able to use it for predictions and inference.\n",
      "You are using the default legacy behaviour of the <class 'transformers.models.t5.tokenization_t5.T5Tokenizer'>. This is expected, and simply means that the `legacy` (previous) behavior will be used so nothing changes for you. If you want to use the new behaviour, set `legacy=False`. This should only be set if you understand what it means, and thouroughly read the reason why this was added as explained in https://github.com/huggingface/transformers/pull/24565\n"
     ]
    }
   ],
   "source": [
    "# Choose a model to work\n",
    "model_name = \"t5-small\"  # You can choose other versions like 't5-base', 't5-large'\n",
    "\n",
    "# Choose the type of model it will be used for or AutoModel\n",
    "model_sum = T5ForConditionalGeneration.from_pretrained(model_name)\n",
    "model_qa = T5ForQuestionAnswering.from_pretrained(model_name)\n",
    "\n",
    "# Chose the tokenizer or AutoTokenizer\n",
    "tokenizer = T5Tokenizer.from_pretrained(model_name)"
   ]
  },
  {
   "cell_type": "markdown",
   "metadata": {},
   "source": [
    "Load Data"
   ]
  },
  {
   "cell_type": "code",
   "execution_count": 8,
   "metadata": {},
   "outputs": [],
   "source": [
    "# Read the data from .dat\n",
    "with open('../Datasets/Medical_Documents/test.dat', 'r') as file:\n",
    "    lines = file.readlines()\n"
   ]
  },
  {
   "cell_type": "code",
   "execution_count": 4,
   "metadata": {},
   "outputs": [],
   "source": [
    "# Load data from.csv\n",
    "import pandas as pd\n",
    "df = pd.read_csv(\"../Datasets/Symptoms/symptom_Description.csv\")"
   ]
  },
  {
   "cell_type": "markdown",
   "metadata": {},
   "source": [
    "## Summarize"
   ]
  },
  {
   "cell_type": "code",
   "execution_count": 11,
   "metadata": {},
   "outputs": [
    {
     "name": "stderr",
     "output_type": "stream",
     "text": [
      "Your max_length is set to 200, but your input_length is only 108. Since this is a summarization task, where outputs shorter than the input are typically wanted, you might consider decreasing max_length manually, e.g. summarizer('...', max_length=54)\n"
     ]
    },
    {
     "name": "stdout",
     "output_type": "stream",
     "text": [
      "{'summary_text': 'oral and topical steroids were used to induce regression in an inflammatory, obstructing endobronchial polyp caused by a retained foreign body . the FB (a peanut half) was then able to be easily and bloodlessly retrieved with fiberoptic bronchoscopy .'}\n"
     ]
    }
   ],
   "source": [
    "# Create a pipline for a summarization with the predifined summarization model \n",
    "t5_summarizer = pipeline(\"summarization\", model=model_sum, tokenizer=tokenizer)\n",
    "\n",
    "# Choose a paragraph, the length of tokens can be used to include a maximum level of tokens for the summarization\n",
    "text = lines[2]\n",
    "text_len = len(text.split())\n",
    "\n",
    "# The model can be use as a standard or parametres can be used during the usage\n",
    "#summary = t5_summarizer(text, max_length=round(text_len/2), min_length=round(text_len/), length_penalty=2.0, num_beams=4, early_stopping=True)\n",
    "summary = t5_summarizer(text)\n",
    "print(summary[0])"
   ]
  },
  {
   "cell_type": "markdown",
   "metadata": {},
   "source": [
    "## Question Answering"
   ]
  },
  {
   "cell_type": "code",
   "execution_count": 12,
   "metadata": {},
   "outputs": [
    {
     "name": "stderr",
     "output_type": "stream",
     "text": [
      "Some weights of T5ForQuestionAnswering were not initialized from the model checkpoint at t5-small and are newly initialized: ['qa_outputs.weight', 'qa_outputs.bias']\n",
      "You should probably TRAIN this model on a down-stream task to be able to use it for predictions and inference.\n"
     ]
    },
    {
     "name": "stdout",
     "output_type": "stream",
     "text": [
      "{'score': 0.00011141052527818829, 'start': 32, 'end': 74, 'answer': 'reviewed the clinical files of 10 patients'}\n"
     ]
    }
   ],
   "source": [
    "# Create a pipeline for the model\n",
    "question_answerer = pipeline(\"question-answering\", model=\"t5-small\")\n",
    "\n",
    "# Setup the context and question\n",
    "context = lines[0]\n",
    "question = \"What is the problem?\"\n",
    "\n",
    "# Use the model \n",
    "answer = question_answerer(question=question, context=context)\n",
    "print(answer)"
   ]
  },
  {
   "cell_type": "markdown",
   "metadata": {},
   "source": [
    "## Text Generation"
   ]
  },
  {
   "cell_type": "code",
   "execution_count": 6,
   "metadata": {},
   "outputs": [
    {
     "name": "stdout",
     "output_type": "stream",
     "text": [
      "[{'generated_text': 'i love the forest i love the forest i love the forest i love the forest i love the forest i love the forest i love the forest i love the forest i love the forest i love the'}]\n"
     ]
    }
   ],
   "source": [
    "# Build pipeline for text-generation \n",
    "text_generator = pipeline(\"text2text-generation\", model=\"Google/flan-t5-base\")\n",
    "\n",
    "# build a question \n",
    "question = \"Write a poem about a forest:\"\n",
    "\n",
    "# Use model \n",
    "generated_text = text_generator(question, max_length=50)\n",
    "print(generated_text)"
   ]
  },
  {
   "cell_type": "markdown",
   "metadata": {},
   "source": [
    "Same but without piepline interface"
   ]
  },
  {
   "cell_type": "code",
   "execution_count": 5,
   "metadata": {},
   "outputs": [
    {
     "name": "stdout",
     "output_type": "stream",
     "text": [
      "<pad>i love the trees i love the trees i love the trees i love the\n"
     ]
    }
   ],
   "source": [
    "tokenizer = T5Tokenizer.from_pretrained(\"google/flan-t5-base\")\n",
    "model = T5ForConditionalGeneration.from_pretrained(\"google/flan-t5-base\")\n",
    "\n",
    "input_text = \"Write a poem about trees:\"\n",
    "input_ids = tokenizer(input_text, return_tensors=\"pt\").input_ids\n",
    "\n",
    "outputs = model.generate(input_ids)\n",
    "print(tokenizer.decode(outputs[0]))"
   ]
  }
 ],
 "metadata": {
  "kernelspec": {
   "display_name": "base",
   "language": "python",
   "name": "python3"
  },
  "language_info": {
   "codemirror_mode": {
    "name": "ipython",
    "version": 3
   },
   "file_extension": ".py",
   "mimetype": "text/x-python",
   "name": "python",
   "nbconvert_exporter": "python",
   "pygments_lexer": "ipython3",
   "version": "3.9.12"
  }
 },
 "nbformat": 4,
 "nbformat_minor": 2
}
